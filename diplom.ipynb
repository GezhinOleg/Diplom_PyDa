{
  "nbformat": 4,
  "nbformat_minor": 5,
  "metadata": {
    "kernelspec": {
      "display_name": "Python 3",
      "language": "python",
      "name": "python3"
    },
    "language_info": {
      "codemirror_mode": {
        "name": "ipython",
        "version": 3
      },
      "file_extension": ".py",
      "mimetype": "text/x-python",
      "name": "python",
      "nbconvert_exporter": "python",
      "pygments_lexer": "ipython3",
      "version": "3.8.5"
    },
    "colab": {
      "name": "diplom.ipynb",
      "provenance": [],
      "include_colab_link": true
    }
  },
  "cells": [
    {
      "cell_type": "markdown",
      "metadata": {
        "id": "view-in-github",
        "colab_type": "text"
      },
      "source": [
        "<a href=\"https://colab.research.google.com/github/GezhinOleg/Diplom_PyDa/blob/main/diplom.ipynb\" target=\"_parent\"><img src=\"https://colab.research.google.com/assets/colab-badge.svg\" alt=\"Open In Colab\"/></a>"
      ]
    },
    {
      "cell_type": "code",
      "metadata": {
        "id": "stable-halloween"
      },
      "source": [
        "import pandas as pd\n",
        "import numpy as np\n",
        "import matplotlib.pyplot as plt\n",
        "import seaborn as sns\n",
        "from matplotlib import colors\n",
        "from sklearn.cluster import KMeans\n",
        "from pylab import rcParams\n",
        "from scipy import stats"
      ],
      "id": "stable-halloween",
      "execution_count": null,
      "outputs": []
    },
    {
      "cell_type": "markdown",
      "metadata": {
        "id": "intimate-basic"
      },
      "source": [
        "        1. satisfaction_level - Уровень удовлетворенности работой\n",
        "        2. Last_evaluation - Время с момента последней оценки в годах\n",
        "        3. number_projects - Количество проектов, выполненных за время работы\n",
        "        4. average_monthly_hours - Среднее количество часов на рабочем месте в месяц\n",
        "        5. time_spend_company - Стаж работы в компании в годах\n",
        "        6. work_accident - Происходили ли несчастные случаи на рабочем месте с сотрудником\n",
        "        7. left - уволился ли сотрудник\n",
        "        8. promotion_last_5years - повышался ли сотрудник за последние пять лет\n",
        "        9. department - отдел в котором работает сотрудник\n",
        "        10. salary - относительный уровень зарплаты"
      ],
      "id": "intimate-basic"
    },
    {
      "cell_type": "markdown",
      "metadata": {
        "id": "employed-synthetic"
      },
      "source": [
        "### 1. Загрузите файл HR.csv в pandas dataframe"
      ],
      "id": "employed-synthetic"
    },
    {
      "cell_type": "code",
      "metadata": {
        "id": "encouraging-transition",
        "outputId": "b2782da3-ab68-4e6f-97fa-cbb4d476aba8"
      },
      "source": [
        "data = pd.read_csv('HR.csv')\n",
        "data.head()"
      ],
      "id": "encouraging-transition",
      "execution_count": null,
      "outputs": [
        {
          "data": {
            "text/html": [
              "<div>\n",
              "<style scoped>\n",
              "    .dataframe tbody tr th:only-of-type {\n",
              "        vertical-align: middle;\n",
              "    }\n",
              "\n",
              "    .dataframe tbody tr th {\n",
              "        vertical-align: top;\n",
              "    }\n",
              "\n",
              "    .dataframe thead th {\n",
              "        text-align: right;\n",
              "    }\n",
              "</style>\n",
              "<table border=\"1\" class=\"dataframe\">\n",
              "  <thead>\n",
              "    <tr style=\"text-align: right;\">\n",
              "      <th></th>\n",
              "      <th>satisfaction_level</th>\n",
              "      <th>last_evaluation</th>\n",
              "      <th>number_project</th>\n",
              "      <th>average_montly_hours</th>\n",
              "      <th>time_spend_company</th>\n",
              "      <th>Work_accident</th>\n",
              "      <th>left</th>\n",
              "      <th>promotion_last_5years</th>\n",
              "      <th>department</th>\n",
              "      <th>salary</th>\n",
              "    </tr>\n",
              "  </thead>\n",
              "  <tbody>\n",
              "    <tr>\n",
              "      <th>0</th>\n",
              "      <td>0.38</td>\n",
              "      <td>0.53</td>\n",
              "      <td>2</td>\n",
              "      <td>157</td>\n",
              "      <td>3</td>\n",
              "      <td>0</td>\n",
              "      <td>1</td>\n",
              "      <td>0</td>\n",
              "      <td>sales</td>\n",
              "      <td>low</td>\n",
              "    </tr>\n",
              "    <tr>\n",
              "      <th>1</th>\n",
              "      <td>0.80</td>\n",
              "      <td>0.86</td>\n",
              "      <td>5</td>\n",
              "      <td>262</td>\n",
              "      <td>6</td>\n",
              "      <td>0</td>\n",
              "      <td>1</td>\n",
              "      <td>0</td>\n",
              "      <td>sales</td>\n",
              "      <td>medium</td>\n",
              "    </tr>\n",
              "    <tr>\n",
              "      <th>2</th>\n",
              "      <td>0.11</td>\n",
              "      <td>0.88</td>\n",
              "      <td>7</td>\n",
              "      <td>272</td>\n",
              "      <td>4</td>\n",
              "      <td>0</td>\n",
              "      <td>1</td>\n",
              "      <td>0</td>\n",
              "      <td>sales</td>\n",
              "      <td>medium</td>\n",
              "    </tr>\n",
              "    <tr>\n",
              "      <th>3</th>\n",
              "      <td>0.72</td>\n",
              "      <td>0.87</td>\n",
              "      <td>5</td>\n",
              "      <td>223</td>\n",
              "      <td>5</td>\n",
              "      <td>0</td>\n",
              "      <td>1</td>\n",
              "      <td>0</td>\n",
              "      <td>sales</td>\n",
              "      <td>low</td>\n",
              "    </tr>\n",
              "    <tr>\n",
              "      <th>4</th>\n",
              "      <td>0.37</td>\n",
              "      <td>0.52</td>\n",
              "      <td>2</td>\n",
              "      <td>159</td>\n",
              "      <td>3</td>\n",
              "      <td>0</td>\n",
              "      <td>1</td>\n",
              "      <td>0</td>\n",
              "      <td>sales</td>\n",
              "      <td>low</td>\n",
              "    </tr>\n",
              "  </tbody>\n",
              "</table>\n",
              "</div>"
            ],
            "text/plain": [
              "   satisfaction_level  last_evaluation  number_project  average_montly_hours  \\\n",
              "0                0.38             0.53               2                   157   \n",
              "1                0.80             0.86               5                   262   \n",
              "2                0.11             0.88               7                   272   \n",
              "3                0.72             0.87               5                   223   \n",
              "4                0.37             0.52               2                   159   \n",
              "\n",
              "   time_spend_company  Work_accident  left  promotion_last_5years department  \\\n",
              "0                   3              0     1                      0      sales   \n",
              "1                   6              0     1                      0      sales   \n",
              "2                   4              0     1                      0      sales   \n",
              "3                   5              0     1                      0      sales   \n",
              "4                   3              0     1                      0      sales   \n",
              "\n",
              "   salary  \n",
              "0     low  \n",
              "1  medium  \n",
              "2  medium  \n",
              "3     low  \n",
              "4     low  "
            ]
          },
          "execution_count": 2,
          "metadata": {},
          "output_type": "execute_result"
        }
      ]
    },
    {
      "cell_type": "markdown",
      "metadata": {
        "id": "correct-shadow"
      },
      "source": [
        "### 2. Рассчитайте основные статистики для переменных (среднее,медиана,мода,мин/макс,сред.отклонение)."
      ],
      "id": "correct-shadow"
    },
    {
      "cell_type": "code",
      "metadata": {
        "id": "palestinian-instruction",
        "outputId": "0bdc2015-caaf-4ba6-f625-7d3662777bb6"
      },
      "source": [
        "print('Максимальный уровень удовлетворенности работой', data.satisfaction_level.max())\n",
        "print('Минимальный уровень удовлетворенности работой', data.satisfaction_level.min())\n",
        "print('Максимальное время с момента последней оценки в годах', data.last_evaluation.max())\n",
        "print('Минимальное время с момента последней оценки в годах', data.last_evaluation.min())\n",
        "print('Максимальное количество проектов, выполненных за время работы', data.number_project.max())\n",
        "print('Минимальное количество проектов, выполненных за время работы', data.number_project.min())\n",
        "print('Максимальное среднее количество часов на рабочем месте в месяц', data.average_montly_hours.max())\n",
        "print('Минимальное среднее количество часов на рабочем месте в месяц', data.average_montly_hours.min())\n",
        "print('Максимальный стаж работы в компании в годах', data.time_spend_company.max())\n",
        "print('Минимальный стаж работы в компании в годах', data.time_spend_company.min())"
      ],
      "id": "palestinian-instruction",
      "execution_count": null,
      "outputs": [
        {
          "name": "stdout",
          "output_type": "stream",
          "text": [
            "Максимальный уровень удовлетворенности работой 1.0\n",
            "Минимальный уровень удовлетворенности работой 0.09\n",
            "Максимальное время с момента последней оценки в годах 1.0\n",
            "Минимальное время с момента последней оценки в годах 0.36\n",
            "Максимальное количество проектов, выполненных за время работы 7\n",
            "Минимальное количество проектов, выполненных за время работы 2\n",
            "Максимальное среднее количество часов на рабочем месте в месяц 310\n",
            "Минимальное среднее количество часов на рабочем месте в месяц 96\n",
            "Максимальный стаж работы в компании в годах 10\n",
            "Минимальный стаж работы в компании в годах 2\n"
          ]
        }
      ]
    },
    {
      "cell_type": "code",
      "metadata": {
        "id": "diagnostic-teach",
        "outputId": "3438d93c-ac27-4469-f5af-34907f20a4e5"
      },
      "source": [
        "data[data['satisfaction_level'] == data.satisfaction_level.max()].head(1)"
      ],
      "id": "diagnostic-teach",
      "execution_count": null,
      "outputs": [
        {
          "data": {
            "text/html": [
              "<div>\n",
              "<style scoped>\n",
              "    .dataframe tbody tr th:only-of-type {\n",
              "        vertical-align: middle;\n",
              "    }\n",
              "\n",
              "    .dataframe tbody tr th {\n",
              "        vertical-align: top;\n",
              "    }\n",
              "\n",
              "    .dataframe thead th {\n",
              "        text-align: right;\n",
              "    }\n",
              "</style>\n",
              "<table border=\"1\" class=\"dataframe\">\n",
              "  <thead>\n",
              "    <tr style=\"text-align: right;\">\n",
              "      <th></th>\n",
              "      <th>satisfaction_level</th>\n",
              "      <th>last_evaluation</th>\n",
              "      <th>number_project</th>\n",
              "      <th>average_montly_hours</th>\n",
              "      <th>time_spend_company</th>\n",
              "      <th>Work_accident</th>\n",
              "      <th>left</th>\n",
              "      <th>promotion_last_5years</th>\n",
              "      <th>department</th>\n",
              "      <th>salary</th>\n",
              "    </tr>\n",
              "  </thead>\n",
              "  <tbody>\n",
              "    <tr>\n",
              "      <th>2023</th>\n",
              "      <td>1.0</td>\n",
              "      <td>0.41</td>\n",
              "      <td>4</td>\n",
              "      <td>174</td>\n",
              "      <td>3</td>\n",
              "      <td>0</td>\n",
              "      <td>0</td>\n",
              "      <td>0</td>\n",
              "      <td>technical</td>\n",
              "      <td>low</td>\n",
              "    </tr>\n",
              "  </tbody>\n",
              "</table>\n",
              "</div>"
            ],
            "text/plain": [
              "      satisfaction_level  last_evaluation  number_project  \\\n",
              "2023                 1.0             0.41               4   \n",
              "\n",
              "      average_montly_hours  time_spend_company  Work_accident  left  \\\n",
              "2023                   174                   3              0     0   \n",
              "\n",
              "      promotion_last_5years department salary  \n",
              "2023                      0  technical    low  "
            ]
          },
          "execution_count": 4,
          "metadata": {},
          "output_type": "execute_result"
        }
      ]
    },
    {
      "cell_type": "code",
      "metadata": {
        "id": "infectious-mileage",
        "outputId": "23b974df-3866-4c99-9bb3-4cf6b31f57e9"
      },
      "source": [
        "data[data['satisfaction_level'] == data.satisfaction_level.min()].head(1)"
      ],
      "id": "infectious-mileage",
      "execution_count": null,
      "outputs": [
        {
          "data": {
            "text/html": [
              "<div>\n",
              "<style scoped>\n",
              "    .dataframe tbody tr th:only-of-type {\n",
              "        vertical-align: middle;\n",
              "    }\n",
              "\n",
              "    .dataframe tbody tr th {\n",
              "        vertical-align: top;\n",
              "    }\n",
              "\n",
              "    .dataframe thead th {\n",
              "        text-align: right;\n",
              "    }\n",
              "</style>\n",
              "<table border=\"1\" class=\"dataframe\">\n",
              "  <thead>\n",
              "    <tr style=\"text-align: right;\">\n",
              "      <th></th>\n",
              "      <th>satisfaction_level</th>\n",
              "      <th>last_evaluation</th>\n",
              "      <th>number_project</th>\n",
              "      <th>average_montly_hours</th>\n",
              "      <th>time_spend_company</th>\n",
              "      <th>Work_accident</th>\n",
              "      <th>left</th>\n",
              "      <th>promotion_last_5years</th>\n",
              "      <th>department</th>\n",
              "      <th>salary</th>\n",
              "    </tr>\n",
              "  </thead>\n",
              "  <tbody>\n",
              "    <tr>\n",
              "      <th>22</th>\n",
              "      <td>0.09</td>\n",
              "      <td>0.95</td>\n",
              "      <td>6</td>\n",
              "      <td>304</td>\n",
              "      <td>4</td>\n",
              "      <td>0</td>\n",
              "      <td>1</td>\n",
              "      <td>0</td>\n",
              "      <td>sales</td>\n",
              "      <td>low</td>\n",
              "    </tr>\n",
              "  </tbody>\n",
              "</table>\n",
              "</div>"
            ],
            "text/plain": [
              "    satisfaction_level  last_evaluation  number_project  average_montly_hours  \\\n",
              "22                0.09             0.95               6                   304   \n",
              "\n",
              "    time_spend_company  Work_accident  left  promotion_last_5years department  \\\n",
              "22                   4              0     1                      0      sales   \n",
              "\n",
              "   salary  \n",
              "22    low  "
            ]
          },
          "execution_count": 5,
          "metadata": {},
          "output_type": "execute_result"
        }
      ]
    },
    {
      "cell_type": "code",
      "metadata": {
        "id": "nuclear-award",
        "outputId": "79ffbb79-15be-415b-c0ae-18245bd2c3ca"
      },
      "source": [
        "data[data['last_evaluation'] == data.last_evaluation.max()].head(1)"
      ],
      "id": "nuclear-award",
      "execution_count": null,
      "outputs": [
        {
          "data": {
            "text/html": [
              "<div>\n",
              "<style scoped>\n",
              "    .dataframe tbody tr th:only-of-type {\n",
              "        vertical-align: middle;\n",
              "    }\n",
              "\n",
              "    .dataframe tbody tr th {\n",
              "        vertical-align: top;\n",
              "    }\n",
              "\n",
              "    .dataframe thead th {\n",
              "        text-align: right;\n",
              "    }\n",
              "</style>\n",
              "<table border=\"1\" class=\"dataframe\">\n",
              "  <thead>\n",
              "    <tr style=\"text-align: right;\">\n",
              "      <th></th>\n",
              "      <th>satisfaction_level</th>\n",
              "      <th>last_evaluation</th>\n",
              "      <th>number_project</th>\n",
              "      <th>average_montly_hours</th>\n",
              "      <th>time_spend_company</th>\n",
              "      <th>Work_accident</th>\n",
              "      <th>left</th>\n",
              "      <th>promotion_last_5years</th>\n",
              "      <th>department</th>\n",
              "      <th>salary</th>\n",
              "    </tr>\n",
              "  </thead>\n",
              "  <tbody>\n",
              "    <tr>\n",
              "      <th>8</th>\n",
              "      <td>0.89</td>\n",
              "      <td>1.0</td>\n",
              "      <td>5</td>\n",
              "      <td>224</td>\n",
              "      <td>5</td>\n",
              "      <td>0</td>\n",
              "      <td>1</td>\n",
              "      <td>0</td>\n",
              "      <td>sales</td>\n",
              "      <td>low</td>\n",
              "    </tr>\n",
              "  </tbody>\n",
              "</table>\n",
              "</div>"
            ],
            "text/plain": [
              "   satisfaction_level  last_evaluation  number_project  average_montly_hours  \\\n",
              "8                0.89              1.0               5                   224   \n",
              "\n",
              "   time_spend_company  Work_accident  left  promotion_last_5years department  \\\n",
              "8                   5              0     1                      0      sales   \n",
              "\n",
              "  salary  \n",
              "8    low  "
            ]
          },
          "execution_count": 6,
          "metadata": {},
          "output_type": "execute_result"
        }
      ]
    },
    {
      "cell_type": "code",
      "metadata": {
        "id": "acceptable-effectiveness",
        "outputId": "811ca198-436a-44a1-f34e-bf3afee3a273"
      },
      "source": [
        "data[data['last_evaluation'] == data.last_evaluation.min()].head(1)"
      ],
      "id": "acceptable-effectiveness",
      "execution_count": null,
      "outputs": [
        {
          "data": {
            "text/html": [
              "<div>\n",
              "<style scoped>\n",
              "    .dataframe tbody tr th:only-of-type {\n",
              "        vertical-align: middle;\n",
              "    }\n",
              "\n",
              "    .dataframe tbody tr th {\n",
              "        vertical-align: top;\n",
              "    }\n",
              "\n",
              "    .dataframe thead th {\n",
              "        text-align: right;\n",
              "    }\n",
              "</style>\n",
              "<table border=\"1\" class=\"dataframe\">\n",
              "  <thead>\n",
              "    <tr style=\"text-align: right;\">\n",
              "      <th></th>\n",
              "      <th>satisfaction_level</th>\n",
              "      <th>last_evaluation</th>\n",
              "      <th>number_project</th>\n",
              "      <th>average_montly_hours</th>\n",
              "      <th>time_spend_company</th>\n",
              "      <th>Work_accident</th>\n",
              "      <th>left</th>\n",
              "      <th>promotion_last_5years</th>\n",
              "      <th>department</th>\n",
              "      <th>salary</th>\n",
              "    </tr>\n",
              "  </thead>\n",
              "  <tbody>\n",
              "    <tr>\n",
              "      <th>2236</th>\n",
              "      <td>0.39</td>\n",
              "      <td>0.36</td>\n",
              "      <td>3</td>\n",
              "      <td>168</td>\n",
              "      <td>3</td>\n",
              "      <td>1</td>\n",
              "      <td>0</td>\n",
              "      <td>0</td>\n",
              "      <td>sales</td>\n",
              "      <td>low</td>\n",
              "    </tr>\n",
              "  </tbody>\n",
              "</table>\n",
              "</div>"
            ],
            "text/plain": [
              "      satisfaction_level  last_evaluation  number_project  \\\n",
              "2236                0.39             0.36               3   \n",
              "\n",
              "      average_montly_hours  time_spend_company  Work_accident  left  \\\n",
              "2236                   168                   3              1     0   \n",
              "\n",
              "      promotion_last_5years department salary  \n",
              "2236                      0      sales    low  "
            ]
          },
          "execution_count": 7,
          "metadata": {},
          "output_type": "execute_result"
        }
      ]
    },
    {
      "cell_type": "code",
      "metadata": {
        "id": "disturbed-ticket",
        "outputId": "9c07885c-fb2b-434b-d019-9752620fd714"
      },
      "source": [
        "data[data['number_project'] == data.number_project.max()].head(1)"
      ],
      "id": "disturbed-ticket",
      "execution_count": null,
      "outputs": [
        {
          "data": {
            "text/html": [
              "<div>\n",
              "<style scoped>\n",
              "    .dataframe tbody tr th:only-of-type {\n",
              "        vertical-align: middle;\n",
              "    }\n",
              "\n",
              "    .dataframe tbody tr th {\n",
              "        vertical-align: top;\n",
              "    }\n",
              "\n",
              "    .dataframe thead th {\n",
              "        text-align: right;\n",
              "    }\n",
              "</style>\n",
              "<table border=\"1\" class=\"dataframe\">\n",
              "  <thead>\n",
              "    <tr style=\"text-align: right;\">\n",
              "      <th></th>\n",
              "      <th>satisfaction_level</th>\n",
              "      <th>last_evaluation</th>\n",
              "      <th>number_project</th>\n",
              "      <th>average_montly_hours</th>\n",
              "      <th>time_spend_company</th>\n",
              "      <th>Work_accident</th>\n",
              "      <th>left</th>\n",
              "      <th>promotion_last_5years</th>\n",
              "      <th>department</th>\n",
              "      <th>salary</th>\n",
              "    </tr>\n",
              "  </thead>\n",
              "  <tbody>\n",
              "    <tr>\n",
              "      <th>2</th>\n",
              "      <td>0.11</td>\n",
              "      <td>0.88</td>\n",
              "      <td>7</td>\n",
              "      <td>272</td>\n",
              "      <td>4</td>\n",
              "      <td>0</td>\n",
              "      <td>1</td>\n",
              "      <td>0</td>\n",
              "      <td>sales</td>\n",
              "      <td>medium</td>\n",
              "    </tr>\n",
              "  </tbody>\n",
              "</table>\n",
              "</div>"
            ],
            "text/plain": [
              "   satisfaction_level  last_evaluation  number_project  average_montly_hours  \\\n",
              "2                0.11             0.88               7                   272   \n",
              "\n",
              "   time_spend_company  Work_accident  left  promotion_last_5years department  \\\n",
              "2                   4              0     1                      0      sales   \n",
              "\n",
              "   salary  \n",
              "2  medium  "
            ]
          },
          "execution_count": 8,
          "metadata": {},
          "output_type": "execute_result"
        }
      ]
    },
    {
      "cell_type": "code",
      "metadata": {
        "id": "miniature-shower",
        "outputId": "76c5427e-e317-4837-c386-2ff361229e37"
      },
      "source": [
        "data[data['number_project'] == data.number_project.min()].head(1)"
      ],
      "id": "miniature-shower",
      "execution_count": null,
      "outputs": [
        {
          "data": {
            "text/html": [
              "<div>\n",
              "<style scoped>\n",
              "    .dataframe tbody tr th:only-of-type {\n",
              "        vertical-align: middle;\n",
              "    }\n",
              "\n",
              "    .dataframe tbody tr th {\n",
              "        vertical-align: top;\n",
              "    }\n",
              "\n",
              "    .dataframe thead th {\n",
              "        text-align: right;\n",
              "    }\n",
              "</style>\n",
              "<table border=\"1\" class=\"dataframe\">\n",
              "  <thead>\n",
              "    <tr style=\"text-align: right;\">\n",
              "      <th></th>\n",
              "      <th>satisfaction_level</th>\n",
              "      <th>last_evaluation</th>\n",
              "      <th>number_project</th>\n",
              "      <th>average_montly_hours</th>\n",
              "      <th>time_spend_company</th>\n",
              "      <th>Work_accident</th>\n",
              "      <th>left</th>\n",
              "      <th>promotion_last_5years</th>\n",
              "      <th>department</th>\n",
              "      <th>salary</th>\n",
              "    </tr>\n",
              "  </thead>\n",
              "  <tbody>\n",
              "    <tr>\n",
              "      <th>0</th>\n",
              "      <td>0.38</td>\n",
              "      <td>0.53</td>\n",
              "      <td>2</td>\n",
              "      <td>157</td>\n",
              "      <td>3</td>\n",
              "      <td>0</td>\n",
              "      <td>1</td>\n",
              "      <td>0</td>\n",
              "      <td>sales</td>\n",
              "      <td>low</td>\n",
              "    </tr>\n",
              "  </tbody>\n",
              "</table>\n",
              "</div>"
            ],
            "text/plain": [
              "   satisfaction_level  last_evaluation  number_project  average_montly_hours  \\\n",
              "0                0.38             0.53               2                   157   \n",
              "\n",
              "   time_spend_company  Work_accident  left  promotion_last_5years department  \\\n",
              "0                   3              0     1                      0      sales   \n",
              "\n",
              "  salary  \n",
              "0    low  "
            ]
          },
          "execution_count": 9,
          "metadata": {},
          "output_type": "execute_result"
        }
      ]
    },
    {
      "cell_type": "code",
      "metadata": {
        "id": "renewable-words",
        "outputId": "951f8dd0-c43e-4534-aac9-ab5110f49ae2"
      },
      "source": [
        "data[data['average_montly_hours'] == data.average_montly_hours.max()].head(1)"
      ],
      "id": "renewable-words",
      "execution_count": null,
      "outputs": [
        {
          "data": {
            "text/html": [
              "<div>\n",
              "<style scoped>\n",
              "    .dataframe tbody tr th:only-of-type {\n",
              "        vertical-align: middle;\n",
              "    }\n",
              "\n",
              "    .dataframe tbody tr th {\n",
              "        vertical-align: top;\n",
              "    }\n",
              "\n",
              "    .dataframe thead th {\n",
              "        text-align: right;\n",
              "    }\n",
              "</style>\n",
              "<table border=\"1\" class=\"dataframe\">\n",
              "  <thead>\n",
              "    <tr style=\"text-align: right;\">\n",
              "      <th></th>\n",
              "      <th>satisfaction_level</th>\n",
              "      <th>last_evaluation</th>\n",
              "      <th>number_project</th>\n",
              "      <th>average_montly_hours</th>\n",
              "      <th>time_spend_company</th>\n",
              "      <th>Work_accident</th>\n",
              "      <th>left</th>\n",
              "      <th>promotion_last_5years</th>\n",
              "      <th>department</th>\n",
              "      <th>salary</th>\n",
              "    </tr>\n",
              "  </thead>\n",
              "  <tbody>\n",
              "    <tr>\n",
              "      <th>566</th>\n",
              "      <td>0.11</td>\n",
              "      <td>0.79</td>\n",
              "      <td>7</td>\n",
              "      <td>310</td>\n",
              "      <td>4</td>\n",
              "      <td>0</td>\n",
              "      <td>1</td>\n",
              "      <td>0</td>\n",
              "      <td>hr</td>\n",
              "      <td>low</td>\n",
              "    </tr>\n",
              "  </tbody>\n",
              "</table>\n",
              "</div>"
            ],
            "text/plain": [
              "     satisfaction_level  last_evaluation  number_project  \\\n",
              "566                0.11             0.79               7   \n",
              "\n",
              "     average_montly_hours  time_spend_company  Work_accident  left  \\\n",
              "566                   310                   4              0     1   \n",
              "\n",
              "     promotion_last_5years department salary  \n",
              "566                      0         hr    low  "
            ]
          },
          "execution_count": 10,
          "metadata": {},
          "output_type": "execute_result"
        }
      ]
    },
    {
      "cell_type": "code",
      "metadata": {
        "id": "attempted-disabled",
        "outputId": "85390139-87ef-4aac-cd1b-1eaed738b085"
      },
      "source": [
        "data[data['average_montly_hours'] == data.average_montly_hours.min()].head(1)"
      ],
      "id": "attempted-disabled",
      "execution_count": null,
      "outputs": [
        {
          "data": {
            "text/html": [
              "<div>\n",
              "<style scoped>\n",
              "    .dataframe tbody tr th:only-of-type {\n",
              "        vertical-align: middle;\n",
              "    }\n",
              "\n",
              "    .dataframe tbody tr th {\n",
              "        vertical-align: top;\n",
              "    }\n",
              "\n",
              "    .dataframe thead th {\n",
              "        text-align: right;\n",
              "    }\n",
              "</style>\n",
              "<table border=\"1\" class=\"dataframe\">\n",
              "  <thead>\n",
              "    <tr style=\"text-align: right;\">\n",
              "      <th></th>\n",
              "      <th>satisfaction_level</th>\n",
              "      <th>last_evaluation</th>\n",
              "      <th>number_project</th>\n",
              "      <th>average_montly_hours</th>\n",
              "      <th>time_spend_company</th>\n",
              "      <th>Work_accident</th>\n",
              "      <th>left</th>\n",
              "      <th>promotion_last_5years</th>\n",
              "      <th>department</th>\n",
              "      <th>salary</th>\n",
              "    </tr>\n",
              "  </thead>\n",
              "  <tbody>\n",
              "    <tr>\n",
              "      <th>2678</th>\n",
              "      <td>0.79</td>\n",
              "      <td>0.61</td>\n",
              "      <td>5</td>\n",
              "      <td>96</td>\n",
              "      <td>4</td>\n",
              "      <td>0</td>\n",
              "      <td>0</td>\n",
              "      <td>0</td>\n",
              "      <td>marketing</td>\n",
              "      <td>medium</td>\n",
              "    </tr>\n",
              "  </tbody>\n",
              "</table>\n",
              "</div>"
            ],
            "text/plain": [
              "      satisfaction_level  last_evaluation  number_project  \\\n",
              "2678                0.79             0.61               5   \n",
              "\n",
              "      average_montly_hours  time_spend_company  Work_accident  left  \\\n",
              "2678                    96                   4              0     0   \n",
              "\n",
              "      promotion_last_5years department  salary  \n",
              "2678                      0  marketing  medium  "
            ]
          },
          "execution_count": 11,
          "metadata": {},
          "output_type": "execute_result"
        }
      ]
    },
    {
      "cell_type": "code",
      "metadata": {
        "id": "portable-breath",
        "outputId": "56080d29-ad7b-4f7f-f02b-76d0e5552411"
      },
      "source": [
        "data[data['time_spend_company'] == data.time_spend_company.max()].head(1)"
      ],
      "id": "portable-breath",
      "execution_count": null,
      "outputs": [
        {
          "data": {
            "text/html": [
              "<div>\n",
              "<style scoped>\n",
              "    .dataframe tbody tr th:only-of-type {\n",
              "        vertical-align: middle;\n",
              "    }\n",
              "\n",
              "    .dataframe tbody tr th {\n",
              "        vertical-align: top;\n",
              "    }\n",
              "\n",
              "    .dataframe thead th {\n",
              "        text-align: right;\n",
              "    }\n",
              "</style>\n",
              "<table border=\"1\" class=\"dataframe\">\n",
              "  <thead>\n",
              "    <tr style=\"text-align: right;\">\n",
              "      <th></th>\n",
              "      <th>satisfaction_level</th>\n",
              "      <th>last_evaluation</th>\n",
              "      <th>number_project</th>\n",
              "      <th>average_montly_hours</th>\n",
              "      <th>time_spend_company</th>\n",
              "      <th>Work_accident</th>\n",
              "      <th>left</th>\n",
              "      <th>promotion_last_5years</th>\n",
              "      <th>department</th>\n",
              "      <th>salary</th>\n",
              "    </tr>\n",
              "  </thead>\n",
              "  <tbody>\n",
              "    <tr>\n",
              "      <th>11078</th>\n",
              "      <td>0.69</td>\n",
              "      <td>0.88</td>\n",
              "      <td>3</td>\n",
              "      <td>164</td>\n",
              "      <td>10</td>\n",
              "      <td>0</td>\n",
              "      <td>0</td>\n",
              "      <td>0</td>\n",
              "      <td>management</td>\n",
              "      <td>medium</td>\n",
              "    </tr>\n",
              "  </tbody>\n",
              "</table>\n",
              "</div>"
            ],
            "text/plain": [
              "       satisfaction_level  last_evaluation  number_project  \\\n",
              "11078                0.69             0.88               3   \n",
              "\n",
              "       average_montly_hours  time_spend_company  Work_accident  left  \\\n",
              "11078                   164                  10              0     0   \n",
              "\n",
              "       promotion_last_5years  department  salary  \n",
              "11078                      0  management  medium  "
            ]
          },
          "execution_count": 12,
          "metadata": {},
          "output_type": "execute_result"
        }
      ]
    },
    {
      "cell_type": "code",
      "metadata": {
        "id": "characteristic-musician",
        "outputId": "7594dcde-ee57-4776-e8ee-4fca852ad5f9"
      },
      "source": [
        "data[data['time_spend_company'] == data.time_spend_company.min()].head(1)"
      ],
      "id": "characteristic-musician",
      "execution_count": null,
      "outputs": [
        {
          "data": {
            "text/html": [
              "<div>\n",
              "<style scoped>\n",
              "    .dataframe tbody tr th:only-of-type {\n",
              "        vertical-align: middle;\n",
              "    }\n",
              "\n",
              "    .dataframe tbody tr th {\n",
              "        vertical-align: top;\n",
              "    }\n",
              "\n",
              "    .dataframe thead th {\n",
              "        text-align: right;\n",
              "    }\n",
              "</style>\n",
              "<table border=\"1\" class=\"dataframe\">\n",
              "  <thead>\n",
              "    <tr style=\"text-align: right;\">\n",
              "      <th></th>\n",
              "      <th>satisfaction_level</th>\n",
              "      <th>last_evaluation</th>\n",
              "      <th>number_project</th>\n",
              "      <th>average_montly_hours</th>\n",
              "      <th>time_spend_company</th>\n",
              "      <th>Work_accident</th>\n",
              "      <th>left</th>\n",
              "      <th>promotion_last_5years</th>\n",
              "      <th>department</th>\n",
              "      <th>salary</th>\n",
              "    </tr>\n",
              "  </thead>\n",
              "  <tbody>\n",
              "    <tr>\n",
              "      <th>50</th>\n",
              "      <td>0.13</td>\n",
              "      <td>0.78</td>\n",
              "      <td>6</td>\n",
              "      <td>152</td>\n",
              "      <td>2</td>\n",
              "      <td>0</td>\n",
              "      <td>1</td>\n",
              "      <td>0</td>\n",
              "      <td>support</td>\n",
              "      <td>low</td>\n",
              "    </tr>\n",
              "  </tbody>\n",
              "</table>\n",
              "</div>"
            ],
            "text/plain": [
              "    satisfaction_level  last_evaluation  number_project  average_montly_hours  \\\n",
              "50                0.13             0.78               6                   152   \n",
              "\n",
              "    time_spend_company  Work_accident  left  promotion_last_5years department  \\\n",
              "50                   2              0     1                      0    support   \n",
              "\n",
              "   salary  \n",
              "50    low  "
            ]
          },
          "execution_count": 13,
          "metadata": {},
          "output_type": "execute_result"
        }
      ]
    },
    {
      "cell_type": "code",
      "metadata": {
        "id": "flush-mediterranean",
        "outputId": "cf9932d2-b6d1-4ca8-ef85-7dc18a57af55"
      },
      "source": [
        "satisfaction_level_range = data.satisfaction_level.max() - data.satisfaction_level.min()\n",
        "print('Размах по уровню удовлетворенности работой', satisfaction_level_range)\n",
        "\n",
        "last_evaluation_range = data.last_evaluation.max() - data.last_evaluation.min()\n",
        "print('Размах по времени с момента последней оценки в годах', last_evaluation_range)\n",
        "\n",
        "number_project_range = data.number_project.max() - data.number_project.min()\n",
        "print('Размах по количеству проектов, выполненных за время работы', number_project_range)\n",
        "\n",
        "average_montly_hours_range = data.average_montly_hours.max() - data.average_montly_hours.min()\n",
        "print('Размах по среднему количеству часов на рабочем месте в месяц', average_montly_hours_range)\n",
        "\n",
        "time_spend_company_range = data.time_spend_company.max() - data.time_spend_company.min()\n",
        "print('Размах по стажу работы в компании в годах', time_spend_company_range)"
      ],
      "id": "flush-mediterranean",
      "execution_count": null,
      "outputs": [
        {
          "name": "stdout",
          "output_type": "stream",
          "text": [
            "Размах по уровню удовлетворенности работой 0.91\n",
            "Размах по времени с момента последней оценки в годах 0.64\n",
            "Размах по количеству проектов, выполненных за время работы 5\n",
            "Размах по среднему количеству часов на рабочем месте в месяц 214\n",
            "Размах по стажу работы в компании в годах 8\n"
          ]
        }
      ]
    },
    {
      "cell_type": "code",
      "metadata": {
        "id": "fitted-complaint",
        "outputId": "c039a77d-3a20-43ea-e14c-b42c818169bd"
      },
      "source": [
        "print('Средний уровню удовлетворенности работой', data.satisfaction_level.mean())\n",
        "print('Среднее время с момента последней оценки в годах', data.last_evaluation.mean())\n",
        "print('Среднее количество проектов, выполненных за время работы', data.number_project.mean())\n",
        "print('Среднее количество часов на рабочем месте в месяц', data.average_montly_hours.mean())\n",
        "print('Средний стаж работы в компании в годах', data.time_spend_company.mean())"
      ],
      "id": "fitted-complaint",
      "execution_count": null,
      "outputs": [
        {
          "name": "stdout",
          "output_type": "stream",
          "text": [
            "Средний уровню удовлетворенности работой 0.6128335222348166\n",
            "Среднее время с момента последней оценки в годах 0.7161017401159978\n",
            "Среднее количество проектов, выполненных за время работы 3.80305353690246\n",
            "Среднее количество часов на рабочем месте в месяц 201.0503366891126\n",
            "Средний стаж работы в компании в годах 3.498233215547703\n"
          ]
        }
      ]
    },
    {
      "cell_type": "code",
      "metadata": {
        "id": "natural-occurrence",
        "outputId": "d31100df-80f9-4fa4-a610-faab141942c9"
      },
      "source": [
        "print('Мода уровня удовлетворенности работой', data.satisfaction_level.mode()[0])\n",
        "print('Мода времени с момента последней оценки в годах', data.last_evaluation.mode()[0])\n",
        "print('Мода количества проектов, выполненных за время работы', data.number_project.mode()[0])\n",
        "print('Мода количества часов на рабочем месте в месяц', data.average_montly_hours.mode()[0])\n",
        "print('Мода стажа работы в компании в годах', data.time_spend_company.mode()[0])"
      ],
      "id": "natural-occurrence",
      "execution_count": null,
      "outputs": [
        {
          "name": "stdout",
          "output_type": "stream",
          "text": [
            "Мода уровня удовлетворенности работой 0.1\n",
            "Мода времени с момента последней оценки в годах 0.55\n",
            "Мода количества проектов, выполненных за время работы 4\n",
            "Мода количества часов на рабочем месте в месяц 135\n",
            "Мода стажа работы в компании в годах 3\n"
          ]
        }
      ]
    },
    {
      "cell_type": "code",
      "metadata": {
        "id": "exciting-shield",
        "outputId": "31eb3ac0-d46d-401c-e023-ea42ace594a3"
      },
      "source": [
        "print('Медиана уровня удовлетворенности работой', data.satisfaction_level.median())\n",
        "print('Медиана времени с момента последней оценки в годах', data.last_evaluation.median())\n",
        "print('Медиана количества проектов, выполненных за время работы', data.number_project.median())\n",
        "print('Медиана количества часов на рабочем месте в месяц', data.average_montly_hours.median())\n",
        "print('Медиана стажа работы в компании в годах', data.time_spend_company.median())"
      ],
      "id": "exciting-shield",
      "execution_count": null,
      "outputs": [
        {
          "name": "stdout",
          "output_type": "stream",
          "text": [
            "Медиана уровня удовлетворенности работой 0.64\n",
            "Медиана времени с момента последней оценки в годах 0.72\n",
            "Медиана количества проектов, выполненных за время работы 4.0\n",
            "Медиана количества часов на рабочем месте в месяц 200.0\n",
            "Медиана стажа работы в компании в годах 3.0\n"
          ]
        }
      ]
    },
    {
      "cell_type": "code",
      "metadata": {
        "id": "refined-container",
        "outputId": "1097804c-7f1f-400b-8a34-40975890f786"
      },
      "source": [
        "print('Стандартное отклонение уровня удовлетворенности работой', data.satisfaction_level.std())\n",
        "print('Стандартное отклонение времени с момента последней оценки в годах', data.last_evaluation.std())\n",
        "print('Стандартное отклонение количества проектов, выполненных за время работы', data.number_project.std())\n",
        "print('Стандартное отклонение количества часов на рабочем месте в месяц', data.average_montly_hours.std())\n",
        "print('Стандартное отклонение стажа работы в компании в годах', data.time_spend_company.std())"
      ],
      "id": "refined-container",
      "execution_count": null,
      "outputs": [
        {
          "name": "stdout",
          "output_type": "stream",
          "text": [
            "Стандартное отклонение уровня удовлетворенности работой 0.2486306510611418\n",
            "Стандартное отклонение времени с момента последней оценки в годах 0.17116911062327592\n",
            "Стандартное отклонение количества проектов, выполненных за время работы 1.2325923553183857\n",
            "Стандартное отклонение количества часов на рабочем месте в месяц 49.943099371284305\n",
            "Стандартное отклонение стажа работы в компании в годах 1.4601362305354546\n"
          ]
        }
      ]
    },
    {
      "cell_type": "code",
      "metadata": {
        "id": "continuing-distance",
        "outputId": "15dda7aa-a213-4e19-8515-294ce7774bd9"
      },
      "source": [
        "print('Дисперсия уровня удовлетворенности работой', data.satisfaction_level.var())\n",
        "print('Дисперсия времени с момента последней оценки в годах', data.last_evaluation.var())\n",
        "print('Дисперсия количества проектов, выполненных за время работы', data.number_project.var())\n",
        "print('Дисперсия количества часов на рабочем месте в месяц', data.average_montly_hours.var())\n",
        "print('Дисперсия стажа работы в компании в годах', data.time_spend_company.var())"
      ],
      "id": "continuing-distance",
      "execution_count": null,
      "outputs": [
        {
          "name": "stdout",
          "output_type": "stream",
          "text": [
            "Дисперсия уровня удовлетворенности работой 0.061817200647087255\n",
            "Дисперсия времени с момента последней оценки в годах 0.02929886443156327\n",
            "Дисперсия количества проектов, выполненных за время работы 1.5192839143893255\n",
            "Дисперсия количества часов на рабочем месте в месяц 2494.313174809979\n",
            "Дисперсия стажа работы в компании в годах 2.1319978117222864\n"
          ]
        }
      ]
    },
    {
      "cell_type": "markdown",
      "metadata": {
        "id": "dressed-wesley"
      },
      "source": [
        "### 3. Рассчитайте и визуализировать корреляционную матрицу для количественных переменных.\n",
        "### Определите две самые скоррелированные и две наименее скоррелированные переменные."
      ],
      "id": "dressed-wesley"
    },
    {
      "cell_type": "code",
      "metadata": {
        "id": "labeled-mexico",
        "outputId": "d0bbc966-1db8-4068-a384-bc60732e7cd2"
      },
      "source": [
        "data[['satisfaction_level', 'last_evaluation', 'number_project', 'average_montly_hours', 'time_spend_company']].corr()"
      ],
      "id": "labeled-mexico",
      "execution_count": null,
      "outputs": [
        {
          "data": {
            "text/html": [
              "<div>\n",
              "<style scoped>\n",
              "    .dataframe tbody tr th:only-of-type {\n",
              "        vertical-align: middle;\n",
              "    }\n",
              "\n",
              "    .dataframe tbody tr th {\n",
              "        vertical-align: top;\n",
              "    }\n",
              "\n",
              "    .dataframe thead th {\n",
              "        text-align: right;\n",
              "    }\n",
              "</style>\n",
              "<table border=\"1\" class=\"dataframe\">\n",
              "  <thead>\n",
              "    <tr style=\"text-align: right;\">\n",
              "      <th></th>\n",
              "      <th>satisfaction_level</th>\n",
              "      <th>last_evaluation</th>\n",
              "      <th>number_project</th>\n",
              "      <th>average_montly_hours</th>\n",
              "      <th>time_spend_company</th>\n",
              "    </tr>\n",
              "  </thead>\n",
              "  <tbody>\n",
              "    <tr>\n",
              "      <th>satisfaction_level</th>\n",
              "      <td>1.000000</td>\n",
              "      <td>0.105021</td>\n",
              "      <td>-0.142970</td>\n",
              "      <td>-0.020048</td>\n",
              "      <td>-0.100866</td>\n",
              "    </tr>\n",
              "    <tr>\n",
              "      <th>last_evaluation</th>\n",
              "      <td>0.105021</td>\n",
              "      <td>1.000000</td>\n",
              "      <td>0.349333</td>\n",
              "      <td>0.339742</td>\n",
              "      <td>0.131591</td>\n",
              "    </tr>\n",
              "    <tr>\n",
              "      <th>number_project</th>\n",
              "      <td>-0.142970</td>\n",
              "      <td>0.349333</td>\n",
              "      <td>1.000000</td>\n",
              "      <td>0.417211</td>\n",
              "      <td>0.196786</td>\n",
              "    </tr>\n",
              "    <tr>\n",
              "      <th>average_montly_hours</th>\n",
              "      <td>-0.020048</td>\n",
              "      <td>0.339742</td>\n",
              "      <td>0.417211</td>\n",
              "      <td>1.000000</td>\n",
              "      <td>0.127755</td>\n",
              "    </tr>\n",
              "    <tr>\n",
              "      <th>time_spend_company</th>\n",
              "      <td>-0.100866</td>\n",
              "      <td>0.131591</td>\n",
              "      <td>0.196786</td>\n",
              "      <td>0.127755</td>\n",
              "      <td>1.000000</td>\n",
              "    </tr>\n",
              "  </tbody>\n",
              "</table>\n",
              "</div>"
            ],
            "text/plain": [
              "                      satisfaction_level  last_evaluation  number_project  \\\n",
              "satisfaction_level              1.000000         0.105021       -0.142970   \n",
              "last_evaluation                 0.105021         1.000000        0.349333   \n",
              "number_project                 -0.142970         0.349333        1.000000   \n",
              "average_montly_hours           -0.020048         0.339742        0.417211   \n",
              "time_spend_company             -0.100866         0.131591        0.196786   \n",
              "\n",
              "                      average_montly_hours  time_spend_company  \n",
              "satisfaction_level               -0.020048           -0.100866  \n",
              "last_evaluation                   0.339742            0.131591  \n",
              "number_project                    0.417211            0.196786  \n",
              "average_montly_hours              1.000000            0.127755  \n",
              "time_spend_company                0.127755            1.000000  "
            ]
          },
          "execution_count": 20,
          "metadata": {},
          "output_type": "execute_result"
        }
      ]
    },
    {
      "cell_type": "code",
      "metadata": {
        "id": "indian-interview",
        "outputId": "bb028c42-1af2-411f-b394-9235c44ca094"
      },
      "source": [
        "# sns.heatmap(data.corr())\n",
        "plt.figure(figsize=(10,8), dpi= 80)\n",
        "sns.heatmap(data.corr(), xticklabels=data.corr().columns, yticklabels=data.corr().columns, cmap='RdYlGn', center=0, annot=True)\n",
        "plt.title('Матрица корелляции', fontsize=20)\n",
        "plt.xticks(fontsize=10)\n",
        "plt.yticks(fontsize=10)\n",
        "plt.show()"
      ],
      "id": "indian-interview",
      "execution_count": null,
      "outputs": [
        {
          "data": {
            "image/png": "[encoded data removed]",
            "text/plain": [
              "<Figure size 800x640 with 2 Axes>"
            ]
          },
          "metadata": {
            "needs_background": "light"
          },
          "output_type": "display_data"
        }
      ]
    },
    {
      "cell_type": "code",
      "metadata": {
        "id": "banner-worker",
        "outputId": "bb6346b4-8e96-456a-8240-bbbe2d90885a"
      },
      "source": [
        "data[['number_project', 'average_montly_hours']].corr()"
      ],
      "id": "banner-worker",
      "execution_count": null,
      "outputs": [
        {
          "data": {
            "text/html": [
              "<div>\n",
              "<style scoped>\n",
              "    .dataframe tbody tr th:only-of-type {\n",
              "        vertical-align: middle;\n",
              "    }\n",
              "\n",
              "    .dataframe tbody tr th {\n",
              "        vertical-align: top;\n",
              "    }\n",
              "\n",
              "    .dataframe thead th {\n",
              "        text-align: right;\n",
              "    }\n",
              "</style>\n",
              "<table border=\"1\" class=\"dataframe\">\n",
              "  <thead>\n",
              "    <tr style=\"text-align: right;\">\n",
              "      <th></th>\n",
              "      <th>number_project</th>\n",
              "      <th>average_montly_hours</th>\n",
              "    </tr>\n",
              "  </thead>\n",
              "  <tbody>\n",
              "    <tr>\n",
              "      <th>number_project</th>\n",
              "      <td>1.000000</td>\n",
              "      <td>0.417211</td>\n",
              "    </tr>\n",
              "    <tr>\n",
              "      <th>average_montly_hours</th>\n",
              "      <td>0.417211</td>\n",
              "      <td>1.000000</td>\n",
              "    </tr>\n",
              "  </tbody>\n",
              "</table>\n",
              "</div>"
            ],
            "text/plain": [
              "                      number_project  average_montly_hours\n",
              "number_project              1.000000              0.417211\n",
              "average_montly_hours        0.417211              1.000000"
            ]
          },
          "execution_count": 22,
          "metadata": {},
          "output_type": "execute_result"
        }
      ]
    },
    {
      "cell_type": "code",
      "metadata": {
        "id": "pressing-drink",
        "outputId": "f1132160-8146-4ca2-a6e7-d638755deb57"
      },
      "source": [
        "data[['number_project', 'average_montly_hours']].corr(method='spearman')"
      ],
      "id": "pressing-drink",
      "execution_count": null,
      "outputs": [
        {
          "data": {
            "text/html": [
              "<div>\n",
              "<style scoped>\n",
              "    .dataframe tbody tr th:only-of-type {\n",
              "        vertical-align: middle;\n",
              "    }\n",
              "\n",
              "    .dataframe tbody tr th {\n",
              "        vertical-align: top;\n",
              "    }\n",
              "\n",
              "    .dataframe thead th {\n",
              "        text-align: right;\n",
              "    }\n",
              "</style>\n",
              "<table border=\"1\" class=\"dataframe\">\n",
              "  <thead>\n",
              "    <tr style=\"text-align: right;\">\n",
              "      <th></th>\n",
              "      <th>number_project</th>\n",
              "      <th>average_montly_hours</th>\n",
              "    </tr>\n",
              "  </thead>\n",
              "  <tbody>\n",
              "    <tr>\n",
              "      <th>number_project</th>\n",
              "      <td>1.000000</td>\n",
              "      <td>0.397855</td>\n",
              "    </tr>\n",
              "    <tr>\n",
              "      <th>average_montly_hours</th>\n",
              "      <td>0.397855</td>\n",
              "      <td>1.000000</td>\n",
              "    </tr>\n",
              "  </tbody>\n",
              "</table>\n",
              "</div>"
            ],
            "text/plain": [
              "                      number_project  average_montly_hours\n",
              "number_project              1.000000              0.397855\n",
              "average_montly_hours        0.397855              1.000000"
            ]
          },
          "execution_count": 23,
          "metadata": {},
          "output_type": "execute_result"
        }
      ]
    },
    {
      "cell_type": "code",
      "metadata": {
        "id": "quantitative-latino",
        "outputId": "c8217503-9bf6-4834-e271-f897da44c0f7"
      },
      "source": [
        "data[['number_project', 'average_montly_hours']].corr(method='kendall')"
      ],
      "id": "quantitative-latino",
      "execution_count": null,
      "outputs": [
        {
          "data": {
            "text/html": [
              "<div>\n",
              "<style scoped>\n",
              "    .dataframe tbody tr th:only-of-type {\n",
              "        vertical-align: middle;\n",
              "    }\n",
              "\n",
              "    .dataframe tbody tr th {\n",
              "        vertical-align: top;\n",
              "    }\n",
              "\n",
              "    .dataframe thead th {\n",
              "        text-align: right;\n",
              "    }\n",
              "</style>\n",
              "<table border=\"1\" class=\"dataframe\">\n",
              "  <thead>\n",
              "    <tr style=\"text-align: right;\">\n",
              "      <th></th>\n",
              "      <th>number_project</th>\n",
              "      <th>average_montly_hours</th>\n",
              "    </tr>\n",
              "  </thead>\n",
              "  <tbody>\n",
              "    <tr>\n",
              "      <th>number_project</th>\n",
              "      <td>1.000000</td>\n",
              "      <td>0.306987</td>\n",
              "    </tr>\n",
              "    <tr>\n",
              "      <th>average_montly_hours</th>\n",
              "      <td>0.306987</td>\n",
              "      <td>1.000000</td>\n",
              "    </tr>\n",
              "  </tbody>\n",
              "</table>\n",
              "</div>"
            ],
            "text/plain": [
              "                      number_project  average_montly_hours\n",
              "number_project              1.000000              0.306987\n",
              "average_montly_hours        0.306987              1.000000"
            ]
          },
          "execution_count": 24,
          "metadata": {},
          "output_type": "execute_result"
        }
      ]
    },
    {
      "cell_type": "code",
      "metadata": {
        "id": "short-lottery",
        "outputId": "dcec00b7-0799-46bc-c8a8-47fdd6ad253a"
      },
      "source": [
        "data[['satisfaction_level', 'average_montly_hours']].corr()"
      ],
      "id": "short-lottery",
      "execution_count": null,
      "outputs": [
        {
          "data": {
            "text/html": [
              "<div>\n",
              "<style scoped>\n",
              "    .dataframe tbody tr th:only-of-type {\n",
              "        vertical-align: middle;\n",
              "    }\n",
              "\n",
              "    .dataframe tbody tr th {\n",
              "        vertical-align: top;\n",
              "    }\n",
              "\n",
              "    .dataframe thead th {\n",
              "        text-align: right;\n",
              "    }\n",
              "</style>\n",
              "<table border=\"1\" class=\"dataframe\">\n",
              "  <thead>\n",
              "    <tr style=\"text-align: right;\">\n",
              "      <th></th>\n",
              "      <th>satisfaction_level</th>\n",
              "      <th>average_montly_hours</th>\n",
              "    </tr>\n",
              "  </thead>\n",
              "  <tbody>\n",
              "    <tr>\n",
              "      <th>satisfaction_level</th>\n",
              "      <td>1.000000</td>\n",
              "      <td>-0.020048</td>\n",
              "    </tr>\n",
              "    <tr>\n",
              "      <th>average_montly_hours</th>\n",
              "      <td>-0.020048</td>\n",
              "      <td>1.000000</td>\n",
              "    </tr>\n",
              "  </tbody>\n",
              "</table>\n",
              "</div>"
            ],
            "text/plain": [
              "                      satisfaction_level  average_montly_hours\n",
              "satisfaction_level              1.000000             -0.020048\n",
              "average_montly_hours           -0.020048              1.000000"
            ]
          },
          "execution_count": 25,
          "metadata": {},
          "output_type": "execute_result"
        }
      ]
    },
    {
      "cell_type": "code",
      "metadata": {
        "id": "recent-triple",
        "outputId": "403a5075-aed9-4d0c-f9f4-a686cd66ec57"
      },
      "source": [
        "data[['satisfaction_level', 'average_montly_hours']].corr(method='spearman')"
      ],
      "id": "recent-triple",
      "execution_count": null,
      "outputs": [
        {
          "data": {
            "text/html": [
              "<div>\n",
              "<style scoped>\n",
              "    .dataframe tbody tr th:only-of-type {\n",
              "        vertical-align: middle;\n",
              "    }\n",
              "\n",
              "    .dataframe tbody tr th {\n",
              "        vertical-align: top;\n",
              "    }\n",
              "\n",
              "    .dataframe thead th {\n",
              "        text-align: right;\n",
              "    }\n",
              "</style>\n",
              "<table border=\"1\" class=\"dataframe\">\n",
              "  <thead>\n",
              "    <tr style=\"text-align: right;\">\n",
              "      <th></th>\n",
              "      <th>satisfaction_level</th>\n",
              "      <th>average_montly_hours</th>\n",
              "    </tr>\n",
              "  </thead>\n",
              "  <tbody>\n",
              "    <tr>\n",
              "      <th>satisfaction_level</th>\n",
              "      <td>1.000</td>\n",
              "      <td>0.062</td>\n",
              "    </tr>\n",
              "    <tr>\n",
              "      <th>average_montly_hours</th>\n",
              "      <td>0.062</td>\n",
              "      <td>1.000</td>\n",
              "    </tr>\n",
              "  </tbody>\n",
              "</table>\n",
              "</div>"
            ],
            "text/plain": [
              "                      satisfaction_level  average_montly_hours\n",
              "satisfaction_level                 1.000                 0.062\n",
              "average_montly_hours               0.062                 1.000"
            ]
          },
          "execution_count": 26,
          "metadata": {},
          "output_type": "execute_result"
        }
      ]
    },
    {
      "cell_type": "code",
      "metadata": {
        "id": "parallel-mississippi",
        "outputId": "0ddbb615-ceba-4d5b-9ffa-f28ae521cc8d"
      },
      "source": [
        "data[['satisfaction_level', 'average_montly_hours']].corr(method='kendall')"
      ],
      "id": "parallel-mississippi",
      "execution_count": null,
      "outputs": [
        {
          "data": {
            "text/html": [
              "<div>\n",
              "<style scoped>\n",
              "    .dataframe tbody tr th:only-of-type {\n",
              "        vertical-align: middle;\n",
              "    }\n",
              "\n",
              "    .dataframe tbody tr th {\n",
              "        vertical-align: top;\n",
              "    }\n",
              "\n",
              "    .dataframe thead th {\n",
              "        text-align: right;\n",
              "    }\n",
              "</style>\n",
              "<table border=\"1\" class=\"dataframe\">\n",
              "  <thead>\n",
              "    <tr style=\"text-align: right;\">\n",
              "      <th></th>\n",
              "      <th>satisfaction_level</th>\n",
              "      <th>average_montly_hours</th>\n",
              "    </tr>\n",
              "  </thead>\n",
              "  <tbody>\n",
              "    <tr>\n",
              "      <th>satisfaction_level</th>\n",
              "      <td>1.000000</td>\n",
              "      <td>0.051126</td>\n",
              "    </tr>\n",
              "    <tr>\n",
              "      <th>average_montly_hours</th>\n",
              "      <td>0.051126</td>\n",
              "      <td>1.000000</td>\n",
              "    </tr>\n",
              "  </tbody>\n",
              "</table>\n",
              "</div>"
            ],
            "text/plain": [
              "                      satisfaction_level  average_montly_hours\n",
              "satisfaction_level              1.000000              0.051126\n",
              "average_montly_hours            0.051126              1.000000"
            ]
          },
          "execution_count": 27,
          "metadata": {},
          "output_type": "execute_result"
        }
      ]
    },
    {
      "cell_type": "markdown",
      "metadata": {
        "id": "superior-screw"
      },
      "source": [
        "### 4. Рассчитайте сколько сотрудников работает в каждом департаменте."
      ],
      "id": "superior-screw"
    },
    {
      "cell_type": "code",
      "metadata": {
        "id": "opposite-twelve",
        "outputId": "5094fa6d-3c53-437d-f1ac-8fb162b1b05f"
      },
      "source": [
        "data.groupby(['department'])['department'].count()"
      ],
      "id": "opposite-twelve",
      "execution_count": null,
      "outputs": [
        {
          "data": {
            "text/plain": [
              "department\n",
              "IT             1227\n",
              "RandD           787\n",
              "accounting      767\n",
              "hr              739\n",
              "management      630\n",
              "marketing       858\n",
              "product_mng     902\n",
              "sales          4140\n",
              "support        2229\n",
              "technical      2720\n",
              "Name: department, dtype: int64"
            ]
          },
          "execution_count": 28,
          "metadata": {},
          "output_type": "execute_result"
        }
      ]
    },
    {
      "cell_type": "code",
      "metadata": {
        "id": "objective-halloween",
        "outputId": "14a444f1-4fbd-4d2c-a5dd-357503924820"
      },
      "source": [
        "data.groupby(['department'])['department'].count().plot(kind='bar',\n",
        "                                                        title='Распределение сотрудников по департаментам',\n",
        "                                                        xlabel='Департамент',\n",
        "                                                        ylabel='Количество')"
      ],
      "id": "objective-halloween",
      "execution_count": null,
      "outputs": [
        {
          "data": {
            "text/plain": [
              "<AxesSubplot:title={'center':'Распределение сотрудников по департаментам'}, xlabel='Департамент', ylabel='Количество'>"
            ]
          },
          "execution_count": 29,
          "metadata": {},
          "output_type": "execute_result"
        },
        {
          "data": {
            "image/png": "[encoded data removed]",
            "text/plain": [
              "<Figure size 432x288 with 1 Axes>"
            ]
          },
          "metadata": {
            "needs_background": "light"
          },
          "output_type": "display_data"
        }
      ]
    },
    {
      "cell_type": "markdown",
      "metadata": {
        "id": "beautiful-opportunity"
      },
      "source": [
        "### 5. Показать распределение сотрудников по зарплатам."
      ],
      "id": "beautiful-opportunity"
    },
    {
      "cell_type": "code",
      "metadata": {
        "id": "sublime-jaguar",
        "outputId": "2813cab7-4bcc-4ffd-b84e-9b53b9d76f0e"
      },
      "source": [
        "data.groupby(['salary'])['salary'].count()"
      ],
      "id": "sublime-jaguar",
      "execution_count": null,
      "outputs": [
        {
          "data": {
            "text/plain": [
              "salary\n",
              "high      1237\n",
              "low       7316\n",
              "medium    6446\n",
              "Name: salary, dtype: int64"
            ]
          },
          "execution_count": 30,
          "metadata": {},
          "output_type": "execute_result"
        }
      ]
    },
    {
      "cell_type": "code",
      "metadata": {
        "id": "compact-underground",
        "outputId": "6cd90553-27f8-4b16-861f-b884aca19f9a"
      },
      "source": [
        "data.groupby(['salary'])['salary'].count().plot(kind='bar',\n",
        "                                                title='Распределение размера зарплат',\n",
        "                                                xlabel='Размер',\n",
        "                                                ylabel='количество сотрудников')"
      ],
      "id": "compact-underground",
      "execution_count": null,
      "outputs": [
        {
          "data": {
            "text/plain": [
              "<AxesSubplot:title={'center':'Распределение размера зарплат'}, xlabel='Размер', ylabel='количество сотрудников'>"
            ]
          },
          "execution_count": 31,
          "metadata": {},
          "output_type": "execute_result"
        },
        {
          "data": {
            "image/png": "[encoded data removed]",
            "text/plain": [
              "<Figure size 432x288 with 1 Axes>"
            ]
          },
          "metadata": {
            "needs_background": "light"
          },
          "output_type": "display_data"
        }
      ]
    },
    {
      "cell_type": "markdown",
      "metadata": {
        "id": "enormous-conservative"
      },
      "source": [
        "### 6. Показать распределение сотрудников по зарплатам в каждом департаменте по отдельности"
      ],
      "id": "enormous-conservative"
    },
    {
      "cell_type": "code",
      "metadata": {
        "id": "cosmetic-reducing",
        "outputId": "ffaa68f1-afce-4bdb-eb37-042082856cd4"
      },
      "source": [
        "s_data = data.groupby(['department', 'salary'])[['satisfaction_level']].count()\n",
        "s_data.columns = ['count']\n",
        "print(s_data.unstack())\n",
        "s_data.unstack().plot(kind='bar')\n"
      ],
      "id": "cosmetic-reducing",
      "execution_count": null,
      "outputs": [
        {
          "name": "stdout",
          "output_type": "stream",
          "text": [
            "            count             \n",
            "salary       high   low medium\n",
            "department                    \n",
            "IT             83   609    535\n",
            "RandD          51   364    372\n",
            "accounting     74   358    335\n",
            "hr             45   335    359\n",
            "management    225   180    225\n",
            "marketing      80   402    376\n",
            "product_mng    68   451    383\n",
            "sales         269  2099   1772\n",
            "support       141  1146    942\n",
            "technical     201  1372   1147\n"
          ]
        },
        {
          "data": {
            "text/plain": [
              "<AxesSubplot:xlabel='department'>"
            ]
          },
          "execution_count": 34,
          "metadata": {},
          "output_type": "execute_result"
        },
        {
          "data": {
            "image/png": "[encoded data removed]",
            "text/plain": [
              "<Figure size 432x288 with 1 Axes>"
            ]
          },
          "metadata": {
            "needs_background": "light"
          },
          "output_type": "display_data"
        }
      ]
    },
    {
      "cell_type": "markdown",
      "metadata": {
        "id": "curious-speed"
      },
      "source": [
        "### 7. Проверить гипотезу, что сотрудники с высоким окладом проводят на работе больше времени, чем сотрудники с низким окладом"
      ],
      "id": "curious-speed"
    },
    {
      "cell_type": "code",
      "metadata": {
        "id": "subject-directory",
        "outputId": "24a868ac-f1c2-4317-9a8d-84b8c7885b29"
      },
      "source": [
        "df_low = data[data['salary'] == 'low']['average_montly_hours']\n",
        "df_low"
      ],
      "id": "subject-directory",
      "execution_count": null,
      "outputs": [
        {
          "data": {
            "text/plain": [
              "0        157\n",
              "3        223\n",
              "4        159\n",
              "5        153\n",
              "6        247\n",
              "        ... \n",
              "14994    151\n",
              "14995    160\n",
              "14996    143\n",
              "14997    280\n",
              "14998    158\n",
              "Name: average_montly_hours, Length: 7316, dtype: int64"
            ]
          },
          "execution_count": 35,
          "metadata": {},
          "output_type": "execute_result"
        }
      ]
    },
    {
      "cell_type": "code",
      "metadata": {
        "id": "joined-judges",
        "outputId": "bd55a334-89c2-4f1c-ddae-e970b8ae1a4c"
      },
      "source": [
        "df_high = data[data['salary'] == 'high']['average_montly_hours']\n",
        "df_high"
      ],
      "id": "joined-judges",
      "execution_count": null,
      "outputs": [
        {
          "data": {
            "text/plain": [
              "72       149\n",
              "111      289\n",
              "189      156\n",
              "267      129\n",
              "306      149\n",
              "        ... \n",
              "14829    148\n",
              "14868    130\n",
              "14902    159\n",
              "14941    131\n",
              "14980    238\n",
              "Name: average_montly_hours, Length: 1237, dtype: int64"
            ]
          },
          "execution_count": 37,
          "metadata": {},
          "output_type": "execute_result"
        }
      ]
    },
    {
      "cell_type": "code",
      "metadata": {
        "id": "initial-python",
        "outputId": "1faea3cc-6d0d-4c4a-e026-60c33c610903"
      },
      "source": [
        "from scipy import stats\n",
        "result = stats.ttest_ind(a=df_low, b=df_high, equal_var=False)\n",
        "print(result)\n",
        "# if (result.pvalue < alpha):\n",
        "#     print('Нулевую гипотезу - отвергаем, так как время работы сотрудников с высоким и низким окладом разное')\n",
        "# else:\n",
        "#     print('Нулевую гипотезу - подтверждаем, сотрудники проводят на работе время одинаково')\n"
      ],
      "id": "initial-python",
      "execution_count": null,
      "outputs": [
        {
          "name": "stdout",
          "output_type": "stream",
          "text": [
            "Ttest_indResult(statistic=0.7624331665385475, pvalue=0.4459045542257889)\n"
          ]
        }
      ]
    },
    {
      "cell_type": "markdown",
      "metadata": {
        "id": "pacific-employment"
      },
      "source": [
        "### 8. Рассчитать следующие показатели среди уволившихся и не уволившихся сотрудников (по отдельности):\n",
        "    1 Доля сотрудников с повышением за последние 5 лет\n",
        "    2 Средняя степень удовлетворенности\n",
        "    3 Среднее количество проектов"
      ],
      "id": "pacific-employment"
    },
    {
      "cell_type": "code",
      "metadata": {
        "id": "static-matter",
        "outputId": "9b41d344-b3f4-439c-cc82-93c84e4a0bf9"
      },
      "source": [
        "employees = data['left'].count()\n",
        "print(f' Количество сотрудников {employees}')\n",
        "\n",
        "df_left = data.groupby(data['left'] == 1)['promotion_last_5years'].sum()\n",
        "print(f' Сотрудников уволились после повышения : {df_left[1]}')\n",
        "\n",
        "l = df_left[1]/employees*100\n",
        "print(f' Доля сотрудников которые уволились, после повышения: {l.round(1)}%')\n",
        "\n",
        "df_not_left = data.groupby(data['left'] == 0)['promotion_last_5years'].sum()\n",
        "print(f' Сотрудников которые остались работать после повышения : {df_not_left[1]}')\n",
        "\n",
        "d = df_not_left[1]/employees*100\n",
        "print(f' Доля сотрудников не уволившихся после повышения: {d.round(1)}%')\n"
      ],
      "id": "static-matter",
      "execution_count": null,
      "outputs": [
        {
          "name": "stdout",
          "output_type": "stream",
          "text": [
            " Количество сотрудников 14999\n",
            " Сотрудников уволились после повышения : 19\n",
            " Доля сотрудников которые уволились, после повышения: 0.1%\n",
            " Сотрудников которые остались работать после повышения : 300\n",
            " Доля сотрудников не уволившихся после повышения: 2.0%\n"
          ]
        }
      ]
    },
    {
      "cell_type": "code",
      "metadata": {
        "id": "velvet-chapel",
        "outputId": "af9fd254-ee6e-4813-9e00-1b0ce57d3f10"
      },
      "source": [
        "df_maen_left = data.groupby(data['left'] == 1)['satisfaction_level'].mean()\n",
        "df_maen_left\n",
        "print(f' Средняя оценка удовлетворения у тех, кто уволился: {df_maen_left[1]}')\n",
        "\n",
        "df_maen_not_left = data.groupby(data['left'] == 0)['satisfaction_level'].mean()\n",
        "df_maen_not_left\n",
        "print(f' Средняя оценка удовлетворения у тех, кто не уволился: {df_maen_not_left[1]}')"
      ],
      "id": "velvet-chapel",
      "execution_count": null,
      "outputs": [
        {
          "name": "stdout",
          "output_type": "stream",
          "text": [
            " Средняя оценка удовлетворения у тех, кто уволился: 0.44009801176140917\n",
            " Средняя оценка удовлетворения у тех, кто не уволился: 0.666809590479516\n"
          ]
        }
      ]
    },
    {
      "cell_type": "code",
      "metadata": {
        "id": "vital-shirt"
      },
      "source": [
        "df_project_left = data.groupby(data['left'] == 1)['number_project'].mean()\n",
        "df_project_left\n",
        "print(f' Средняя количество проектов у тех, кто уволился: {df_project_left[1]}')\n",
        "\n",
        "df_project_not_left = data.groupby(data['left'] == 0)['number_project'].mean()\n",
        "#df_project_not_left\n",
        "print(f' Средняя количество проектов у тех, кто не уволился: {df_project_not_left[1]}')"
      ],
      "id": "vital-shirt",
      "execution_count": null,
      "outputs": []
    },
    {
      "cell_type": "markdown",
      "metadata": {
        "id": "identified-weapon"
      },
      "source": [
        "### 9. Разделить данные на тестовую и обучающую выборки \n",
        "    Построить модель LDA, предсказывающую уволился ли сотрудник на основе имеющихся факторов (кроме department и salary)\n",
        "    Оценить качество модели на тестовой выборке"
      ],
      "id": "identified-weapon"
    },
    {
      "cell_type": "code",
      "metadata": {
        "id": "artificial-orleans"
      },
      "source": [
        ""
      ],
      "id": "artificial-orleans",
      "execution_count": null,
      "outputs": []
    }
  ]
}